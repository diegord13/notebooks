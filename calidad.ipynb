{
 "cells": [
  {
   "cell_type": "markdown",
   "id": "394b9460-9320-4edf-bdd6-13e15a301d7e",
   "metadata": {},
   "source": [
    "# DATOS ABIERTOS"
   ]
  },
  {
   "cell_type": "markdown",
   "id": "e550011e-3d19-49d0-9415-c8a41c1842e9",
   "metadata": {},
   "source": [
    "## UNICIDAD"
   ]
  },
  {
   "cell_type": "code",
   "execution_count": null,
   "id": "268eae12-7a57-478f-9627-27b04fa42bea",
   "metadata": {},
   "outputs": [],
   "source": [
    "for files in listfiles:\n",
    "    print(\"Analizando Dataset con nombre:\",files.name, \"dataset numero:\", posiconDataset, \"de un total de:\", len(listfiles))\n",
    "    dataSetName = files.name\n",
    "    \n",
    "    conjuntoDatos = spark.read.parquet(\"/mnt/storage_datagov/dataset/\"+dataSetName)\n",
    "    col_list = conjuntoDatos.columns\n",
    "    conjuntoDatos = conjuntoDatos.withColumn(\"concatCols\", concat_ws(\"_\",*col_list)) \n",
    "    \n",
    "    conteoFilas = conjuntoDatos.count()\n",
    "    \n",
    "    conteoRepeditos = conjuntoDatos.groupBy(\"concatCols\").count()\n",
    "    totalRepetidos = conteoRepetidos.filter(conteoRepetidos[\"count\"] > 1)groupByi().sum(\"count\").first()[\"sum(count)\"]\n",
    "    \n",
    "    if totalRepetidos == None:\n",
    "        totalRepetidos = 0\n",
    "        \n",
    "    porcentajeRepetidos = 10 - ((totalRepetidos/conteoFilas)*10)"
   ]
  },
  {
   "cell_type": "markdown",
   "id": "2c6db004-f0fe-497f-a5cb-aa42c91a061d",
   "metadata": {},
   "source": [
    "## ACTUALIDAD"
   ]
  },
  {
   "cell_type": "code",
   "execution_count": null,
   "id": "565e0237-58ca-4df5-946f-eb04930d34d3",
   "metadata": {},
   "outputs": [],
   "source": [
    "#Diferencia entre fechas\n",
    "dif_date = now-date\n",
    "dif_date = int(dif_date.days)\n",
    "\n",
    "frecuency = frecuency.lower()\n",
    "\n",
    "frecuency_dic = {\"anual\":365, \"trienio\":1095, \"semestral\":183, \"trimestral\":91,\"semanal\":20,\"mensual\":45}\n",
    "\n",
    "try:\n",
    "    frecuency = frecuency_dic[frecuency] \n",
    "except Exception as e:\n",
    "    print(frecuency)\n",
    "    frecuency = 365\n",
    "    print(e)\n",
    "    \n",
    "if dif_date > frecuency:\n",
    "    score_act = 0\n",
    "else:\n",
    "    score_act = 10\n",
    "    "
   ]
  },
  {
   "cell_type": "markdown",
   "id": "3e5faa97-48bb-413d-84d4-a51f1a5485ea",
   "metadata": {},
   "source": [
    "## CONFORMIDAD"
   ]
  },
  {
   "cell_type": "code",
   "execution_count": null,
   "id": "2d730617-b654-4cf1-b668-9623d75df7e5",
   "metadata": {},
   "outputs": [],
   "source": [
    "#validar correo\n",
    "def regex_search_email(string):\n",
    "    regex = \"expresion regular\"\n",
    "    if re.search(regex, string, re.IGNORECASE):\n",
    "        return True\n",
    "    return False\n",
    "validateEmail_udf = udf(regex_search_email,BooleanType())\n",
    "\n",
    "df_dataset_v2 = df_dataset.withColumn(\"is_valid_name\",validateEmail_udf(col(l)))"
   ]
  },
  {
   "cell_type": "code",
   "execution_count": null,
   "id": "7ba5333b-55c7-451f-b1be-15a89ab58ab0",
   "metadata": {},
   "outputs": [],
   "source": [
    "#validacion telefono\n",
    "def regex_search_tel(telphone):\n",
    "    regex = \"expresion regular\"\n",
    "    if (len(telphone)==7) or (len(telphone) == 10):\n",
    "        if re.search(regex,telphone,re.IGNORECASE):\n",
    "            return True\n",
    "        \n",
    "    return False\n",
    "validatetelephone_udf = udf(regex_search_tel,BooleanType())\n",
    "\n"
   ]
  },
  {
   "cell_type": "code",
   "execution_count": null,
   "id": "691c90e9-b4fd-4090-8ff1-f555bb1f5959",
   "metadata": {},
   "outputs": [],
   "source": [
    "#Validacion posicion geografica\n",
    "def regex_search_position(string):\n",
    "    position_one = expresion regular\n",
    "    position_two = expresion regular\n",
    "    \n",
    "    if re.search(regex_one, position, re.IGNORECASE):\n",
    "        return True\n",
    "    elif re.search(regex_two,position,re.IGNORECASE):\n",
    "        return True\n",
    "    return False\n",
    "validateposition_udf = udf(regex_search_position,BooleanType())\n"
   ]
  },
  {
   "cell_type": "code",
   "execution_count": null,
   "id": "19221f55-aef9-4e4f-ace2-48d27143170c",
   "metadata": {},
   "outputs": [],
   "source": [
    "def regex_search_names(name):\n",
    "    regex = expresion regular\n",
    "    if re.search(regex,name,re.IGNORECASE):\n",
    "        return False\n",
    "    return True\n",
    "\n",
    "validatename_udf = udf(regex_search_names, BooleanType())"
   ]
  },
  {
   "cell_type": "code",
   "execution_count": null,
   "id": "1b0c4db4-79f8-4e8a-9502-74e28525e9a0",
   "metadata": {},
   "outputs": [],
   "source": [
    "columnas_clave = {\n",
    "    \"email\":[\"email\",\"correo\",\"correo electronico\",\"correo_electronico\",\"email_notification\",\"correo_electr_nico\",\"email notificaci_n\"], \n",
    "    \"coordenadas\":[\"latitud\",\"longitud\",\"lat\",\"lon\",\"coordenadas\"] ,\n",
    "    \"telefono\":[\"telefono\",\"telefono_fijo\",\"fijo\",\"telefono celular\",\"celular\",\"cel\"] ,\n",
    "    \"nombres\":[\"barrio\",\"ciudad\",\"departamento\",\"regional\",\"nombre\",\"establecimiento\",\"municipio\",] \n",
    "    }\n",
    "dataset = num dataset\n",
    "df_dataset = spark.read.format(\"parquet\").load((\"/mnt/storage_datagov/dataset/\"+dataSetName))\n",
    "def conformidad(df_dataset):\n",
    "    columnas_conjunto_datos = df_dataset.columns\n",
    "    for i in columnas_clave[\"coordenadas\"]:\n",
    "        if i in columnas_conjunto_datos:\n",
    "            df_dataset = df_dataset.withColumn(\"is_valid_position\",validateposition_udf(col(i)))\n",
    "            \n",
    "    for j in columnas_clave[\"telefono\"]:\n",
    "        if j in columnas_conjunto_datos:\n",
    "            df_dataset = df_dataset.withColumn(\"is_valid_telphone\",validatelephone_udf(col(j)))\n",
    "            \n",
    "    for k in columnas_clave[\"email\"]:\n",
    "        if k in columnas_conjunto_datos:\n",
    "            df_dataset = df_dataset.withColumn(\"is_valid_telphone\",validatelephone_udf(col(j)))\n",
    "            \n",
    "    return df_dataset"
   ]
  },
  {
   "cell_type": "code",
   "execution_count": null,
   "id": "59f9aa97-5162-4776-9929-df6660358df8",
   "metadata": {},
   "outputs": [],
   "source": [
    "cantidadNulos=spark.createDataFrame([],schema)\n",
    "posicionDataset = 1\n",
    "listfiles = dbutils.fs.ls(\"/mnt/storage_datagov/storage_datagov/dataset/\")\n",
    "\n",
    "for files in listfiles:\n",
    "    print(\"Analizando Dataset con nombre:\",files.name, \"dataset numero:\", posicionDataset, \"de un total de:\", len(listfiles))\n",
    "    datasetName = files.name\n",
    "    \n",
    "    conjuntoDatos = spark.read.parquet(\"/mnt/storage_datagov/storage_datagov/dataset/\"+datasetName)\n",
    "    \n",
    "    estadoNulos = conjuntoDatos.select( [count(when(col(cols).isNull(),cols)).alias(cols) for cols in conjuntoDatos.colums])\n",
    "    totalNulos = estadoNulos.withColumn(\"totalNulos\", sum(estadoNulos[col] for col in estadoNulos.colulmns))\n",
    "    \n",
    "    conteoFilasXcols = conjuntoDatos.count()*len(conjuntoDatos.columns)\n",
    "    totalNulos = totalNulos.first()[\"totalNulos\"]\n",
    "    puntajeNulos = 10 - ((totalNulos / conteoFilasXCols)*10)\n",
    "    \n",
    "    estadoFinal_lista = [datasetName, conteoFilasXCols, totalNulos, puntajeNulos]\n",
    "    \n",
    "    cantidadNulosAux = spark.createDataFrame([estadoFinal_lista, schema])\n",
    "    cantidadNulos = cantidadNulos.union(cantidadNulosAux)\n",
    "    posicionDataset += 1\n",
    "    if posicionDataset == 11:\n",
    "        break\n",
    "display(cantidadNulos)"
   ]
  }
 ],
 "metadata": {
  "kernelspec": {
   "display_name": "Python 3 (ipykernel)",
   "language": "python",
   "name": "python3"
  },
  "language_info": {
   "codemirror_mode": {
    "name": "ipython",
    "version": 3
   },
   "file_extension": ".py",
   "mimetype": "text/x-python",
   "name": "python",
   "nbconvert_exporter": "python",
   "pygments_lexer": "ipython3",
   "version": "3.9.7"
  }
 },
 "nbformat": 4,
 "nbformat_minor": 5
}
