{
 "cells": [
  {
   "cell_type": "code",
   "execution_count": 1,
   "id": "044722f5-e6b9-4ba6-b850-ba13f0005bc5",
   "metadata": {},
   "outputs": [],
   "source": [
    "from pyspark.sql import SparkSession"
   ]
  },
  {
   "cell_type": "code",
   "execution_count": 2,
   "id": "9b5282f1-de8a-47f0-90c0-bc1db1607d32",
   "metadata": {},
   "outputs": [],
   "source": [
    "spark = SparkSession.builder.appName(\"titanic\").getOrCreate()"
   ]
  },
  {
   "cell_type": "code",
   "execution_count": 3,
   "id": "36d288a4-be10-417f-91b5-fbb58c97edc2",
   "metadata": {},
   "outputs": [],
   "source": [
    "df = spark.read.csv(\"titanic.csv\",inferSchema=True,\n",
    "                   header=True)"
   ]
  },
  {
   "cell_type": "code",
   "execution_count": 5,
   "id": "d480c787-9ff4-4cd2-8457-308d7eb1b158",
   "metadata": {},
   "outputs": [
    {
     "name": "stdout",
     "output_type": "stream",
     "text": [
      "root\n",
      " |-- PassengerId: integer (nullable = true)\n",
      " |-- Survived: integer (nullable = true)\n",
      " |-- Pclass: integer (nullable = true)\n",
      " |-- Name: string (nullable = true)\n",
      " |-- Sex: string (nullable = true)\n",
      " |-- Age: double (nullable = true)\n",
      " |-- SibSp: integer (nullable = true)\n",
      " |-- Parch: integer (nullable = true)\n",
      " |-- Ticket: string (nullable = true)\n",
      " |-- Fare: double (nullable = true)\n",
      " |-- Cabin: string (nullable = true)\n",
      " |-- Embarked: string (nullable = true)\n",
      "\n"
     ]
    }
   ],
   "source": [
    "df.printSchema()"
   ]
  },
  {
   "cell_type": "code",
   "execution_count": 6,
   "id": "6be4d64e-7df5-4774-bef2-c3fb548e78b7",
   "metadata": {},
   "outputs": [
    {
     "data": {
      "text/plain": [
       "['PassengerId',\n",
       " 'Survived',\n",
       " 'Pclass',\n",
       " 'Name',\n",
       " 'Sex',\n",
       " 'Age',\n",
       " 'SibSp',\n",
       " 'Parch',\n",
       " 'Ticket',\n",
       " 'Fare',\n",
       " 'Cabin',\n",
       " 'Embarked']"
      ]
     },
     "execution_count": 6,
     "metadata": {},
     "output_type": "execute_result"
    }
   ],
   "source": [
    "df.columns"
   ]
  },
  {
   "cell_type": "code",
   "execution_count": 7,
   "id": "40a32e4c-37bc-4419-9700-4f156b639503",
   "metadata": {},
   "outputs": [],
   "source": [
    "my_cols=df.select(['Survived','Pclass','Sex',\n",
    " 'Age',\n",
    " 'SibSp',\n",
    " 'Parch','Fare','Embarked'])"
   ]
  },
  {
   "cell_type": "code",
   "execution_count": 8,
   "id": "b1366eac-4722-4f4d-8bba-f1d6b405370a",
   "metadata": {},
   "outputs": [],
   "source": [
    "my_final_data = my_cols.na.drop()"
   ]
  },
  {
   "cell_type": "code",
   "execution_count": 9,
   "id": "560c963f-b5a9-44ce-8a30-8fe20679fd3a",
   "metadata": {},
   "outputs": [],
   "source": [
    " from pyspark.ml.feature import (VectorAssembler,VectorIndexer,OneHotEncoder,StringIndexer)"
   ]
  },
  {
   "cell_type": "code",
   "execution_count": 23,
   "id": "ed66d70b-2e2c-4781-af41-4a3ad1fe0e79",
   "metadata": {},
   "outputs": [],
   "source": [
    "gender_indexer = StringIndexer(inputCol=\"Embarked\",outputCol=\"EmbarkIndex\")\n",
    "gender_encoder = OneHotEncoder(inputCol=\"EmbarkIndex\",outputCol=\"EmbarkVec\")"
   ]
  },
  {
   "cell_type": "code",
   "execution_count": 24,
   "id": "3b60f82e-1cbf-4449-83b6-6eab72094f7b",
   "metadata": {},
   "outputs": [],
   "source": [
    "embark_indexer = StringIndexer(inputCol=\"Sex\",outputCol=\"SexIndex\")\n",
    "embark_encoder = OneHotEncoder(inputCol=\"SexIndex\",outputCol=\"SexVec\")"
   ]
  },
  {
   "cell_type": "code",
   "execution_count": 25,
   "id": "da93249b-919d-4371-aa4d-85af101638a9",
   "metadata": {},
   "outputs": [],
   "source": [
    "assembler = VectorAssembler(inputCols=[\"Pclass\",\"SexVec\",\"EmbarkVec\",\"Age\",\"SibSp\",\"Parch\",\"Fare\"],outputCol=\"features\")"
   ]
  },
  {
   "cell_type": "code",
   "execution_count": 26,
   "id": "b86e377a-58c7-4fcb-a664-2a9bef65bf49",
   "metadata": {},
   "outputs": [],
   "source": [
    "from pyspark.ml.classification import LogisticRegression"
   ]
  },
  {
   "cell_type": "code",
   "execution_count": 27,
   "id": "8dea77b8-ec9d-4b51-8112-120fbfa59db4",
   "metadata": {},
   "outputs": [],
   "source": [
    "from pyspark.ml import Pipeline"
   ]
  },
  {
   "cell_type": "code",
   "execution_count": 28,
   "id": "1a18e7f8-1a74-4629-9d9a-0629c6ac40ed",
   "metadata": {},
   "outputs": [],
   "source": [
    "log_reg_titanic_ = LogisticRegression(featuresCol=\"features\",labelCol=\"Survived\")"
   ]
  },
  {
   "cell_type": "code",
   "execution_count": 29,
   "id": "cf1960ba-bc00-4a62-a89b-57528e51d77d",
   "metadata": {},
   "outputs": [],
   "source": [
    "pipeline = Pipeline(stages=[gender_indexer,embark_indexer,\n",
    "                            gender_encoder,embark_encoder,\n",
    "                            assembler,log_reg_titanic_])"
   ]
  },
  {
   "cell_type": "code",
   "execution_count": 31,
   "id": "c798cd06-1f61-40aa-a629-0e58fc964622",
   "metadata": {},
   "outputs": [],
   "source": [
    "train_data, test_data = my_final_data.randomSplit([0.7,0.3])"
   ]
  },
  {
   "cell_type": "code",
   "execution_count": 32,
   "id": "897ea260-e216-4e86-9e6c-bcd2b744e48d",
   "metadata": {},
   "outputs": [],
   "source": [
    "fit_model = pipeline.fit(train_data)"
   ]
  },
  {
   "cell_type": "code",
   "execution_count": 33,
   "id": "833c9a23-c5af-4952-8c84-51fc06d0cfa4",
   "metadata": {},
   "outputs": [],
   "source": [
    "results=fit_model.transform(test_data)"
   ]
  },
  {
   "cell_type": "code",
   "execution_count": 34,
   "id": "df91a621-db6e-4295-b8bf-35a023800f95",
   "metadata": {},
   "outputs": [],
   "source": [
    "from pyspark.ml.evaluation import BinaryClassificationEvaluator"
   ]
  },
  {
   "cell_type": "code",
   "execution_count": 36,
   "id": "613791e7-48a4-4c6f-a02e-1447348fdc22",
   "metadata": {},
   "outputs": [],
   "source": [
    "my_eval = BinaryClassificationEvaluator(rawPredictionCol=\"prediction\",labelCol=\"Survived\")"
   ]
  },
  {
   "cell_type": "code",
   "execution_count": 37,
   "id": "fa1cb6fb-e497-4816-8981-0f7ccc45c7db",
   "metadata": {},
   "outputs": [
    {
     "name": "stdout",
     "output_type": "stream",
     "text": [
      "+--------+----------+\n",
      "|Survived|prediction|\n",
      "+--------+----------+\n",
      "|       0|       1.0|\n",
      "|       0|       1.0|\n",
      "|       0|       1.0|\n",
      "|       0|       0.0|\n",
      "|       0|       0.0|\n",
      "|       0|       0.0|\n",
      "|       0|       1.0|\n",
      "|       0|       0.0|\n",
      "|       0|       0.0|\n",
      "|       0|       0.0|\n",
      "|       0|       0.0|\n",
      "|       0|       0.0|\n",
      "|       0|       0.0|\n",
      "|       0|       0.0|\n",
      "|       0|       0.0|\n",
      "|       0|       0.0|\n",
      "|       0|       0.0|\n",
      "|       0|       0.0|\n",
      "|       0|       0.0|\n",
      "|       0|       0.0|\n",
      "+--------+----------+\n",
      "only showing top 20 rows\n",
      "\n"
     ]
    }
   ],
   "source": [
    "results.select(\"Survived\",\"prediction\").show()"
   ]
  },
  {
   "cell_type": "code",
   "execution_count": 38,
   "id": "3d1b0502-fcde-4a53-8ee9-1512fe9240c8",
   "metadata": {},
   "outputs": [],
   "source": [
    "AUC = my_eval.evaluate(results)"
   ]
  },
  {
   "cell_type": "code",
   "execution_count": 39,
   "id": "309ceba6-167e-408d-988c-ac66759deb0c",
   "metadata": {},
   "outputs": [
    {
     "data": {
      "text/plain": [
       "0.7920054200542005"
      ]
     },
     "execution_count": 39,
     "metadata": {},
     "output_type": "execute_result"
    }
   ],
   "source": [
    "AUC"
   ]
  },
  {
   "cell_type": "code",
   "execution_count": null,
   "id": "f285cbef-f77d-4e2c-9185-66fce4b885db",
   "metadata": {},
   "outputs": [],
   "source": []
  }
 ],
 "metadata": {
  "kernelspec": {
   "display_name": "Python 3 (ipykernel)",
   "language": "python",
   "name": "python3"
  },
  "language_info": {
   "codemirror_mode": {
    "name": "ipython",
    "version": 3
   },
   "file_extension": ".py",
   "mimetype": "text/x-python",
   "name": "python",
   "nbconvert_exporter": "python",
   "pygments_lexer": "ipython3",
   "version": "3.9.7"
  }
 },
 "nbformat": 4,
 "nbformat_minor": 5
}
